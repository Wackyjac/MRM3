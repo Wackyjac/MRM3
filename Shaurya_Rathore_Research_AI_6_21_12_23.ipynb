{
 "cells": [
  {
   "cell_type": "code",
   "execution_count": null,
   "metadata": {},
   "outputs": [],
   "source": [
    "import pandas as pd\n",
    "import numpy as np\n",
    "import matplotlib.pyplot as plt\n",
    "import seaborn as sns\n",
    "import random"
   ]
  },
  {
   "cell_type": "code",
   "execution_count": null,
   "metadata": {},
   "outputs": [],
   "source": [
    "def z_score_standardization(column):\n",
    "    if(column.dtype == float):\n",
    "        return (column - column.mean()) / column.std()\n",
    "    else:\n",
    "        return (column)\n",
    "data = pd.read_csv('C:\\\\Users\\\\Shaurya\\\\Downloads\\\\Project_3\\\\Project_3\\\\Country-data.csv')\n",
    "data = data.drop('country', axis=1)\n",
    "#data1=data1.drop(data1.iloc[0])\n",
    "df = data.apply(z_score_standardization) #applying the \n",
    "df #print the dataframe"
   ]
  }
 ],
 "metadata": {
  "language_info": {
   "name": "python"
  }
 },
 "nbformat": 4,
 "nbformat_minor": 2
}
