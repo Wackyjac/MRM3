{
 "cells": [
  {
   "cell_type": "code",
   "execution_count": 3,
   "metadata": {},
   "outputs": [
    {
     "name": "stdout",
     "output_type": "stream",
     "text": [
      "pygame 2.5.2 (SDL 2.28.3, Python 3.9.13)\n",
      "Hello from the pygame community. https://www.pygame.org/contribute.html\n"
     ]
    }
   ],
   "source": [
    "import pandas as pd\n",
    "import numpy as np\n",
    "import matplotlib.pyplot as plt\n",
    "import seaborn as sns\n",
    "import random\n",
    "import pygame\n",
    "from sklearn.metrics import silhouette_samples, silhouette_score"
   ]
  },
  {
   "cell_type": "code",
   "execution_count": 4,
   "metadata": {},
   "outputs": [
    {
     "data": {
      "text/html": [
       "<div>\n",
       "<style scoped>\n",
       "    .dataframe tbody tr th:only-of-type {\n",
       "        vertical-align: middle;\n",
       "    }\n",
       "\n",
       "    .dataframe tbody tr th {\n",
       "        vertical-align: top;\n",
       "    }\n",
       "\n",
       "    .dataframe thead th {\n",
       "        text-align: right;\n",
       "    }\n",
       "</style>\n",
       "<table border=\"1\" class=\"dataframe\">\n",
       "  <thead>\n",
       "    <tr style=\"text-align: right;\">\n",
       "      <th></th>\n",
       "      <th>child_mort</th>\n",
       "      <th>exports</th>\n",
       "      <th>health</th>\n",
       "      <th>imports</th>\n",
       "      <th>income</th>\n",
       "      <th>inflation</th>\n",
       "      <th>life_expec</th>\n",
       "      <th>total_fer</th>\n",
       "      <th>gdpp</th>\n",
       "    </tr>\n",
       "  </thead>\n",
       "  <tbody>\n",
       "    <tr>\n",
       "      <th>0</th>\n",
       "      <td>1.287660</td>\n",
       "      <td>-1.134867</td>\n",
       "      <td>0.278251</td>\n",
       "      <td>-0.082208</td>\n",
       "      <td>1610</td>\n",
       "      <td>0.156864</td>\n",
       "      <td>-1.614237</td>\n",
       "      <td>1.897176</td>\n",
       "      <td>553</td>\n",
       "    </tr>\n",
       "    <tr>\n",
       "      <th>1</th>\n",
       "      <td>-0.537333</td>\n",
       "      <td>-0.478220</td>\n",
       "      <td>-0.096725</td>\n",
       "      <td>0.070624</td>\n",
       "      <td>9930</td>\n",
       "      <td>-0.311411</td>\n",
       "      <td>0.645924</td>\n",
       "      <td>-0.857394</td>\n",
       "      <td>4090</td>\n",
       "    </tr>\n",
       "    <tr>\n",
       "      <th>2</th>\n",
       "      <td>-0.272015</td>\n",
       "      <td>-0.098824</td>\n",
       "      <td>-0.963176</td>\n",
       "      <td>-0.639838</td>\n",
       "      <td>12900</td>\n",
       "      <td>0.786908</td>\n",
       "      <td>0.668413</td>\n",
       "      <td>-0.038289</td>\n",
       "      <td>4460</td>\n",
       "    </tr>\n",
       "    <tr>\n",
       "      <th>3</th>\n",
       "      <td>2.001787</td>\n",
       "      <td>0.773056</td>\n",
       "      <td>-1.443729</td>\n",
       "      <td>-0.164820</td>\n",
       "      <td>5900</td>\n",
       "      <td>1.382894</td>\n",
       "      <td>-1.175698</td>\n",
       "      <td>2.121770</td>\n",
       "      <td>3530</td>\n",
       "    </tr>\n",
       "    <tr>\n",
       "      <th>4</th>\n",
       "      <td>-0.693548</td>\n",
       "      <td>0.160186</td>\n",
       "      <td>-0.286034</td>\n",
       "      <td>0.496076</td>\n",
       "      <td>19100</td>\n",
       "      <td>-0.599944</td>\n",
       "      <td>0.702147</td>\n",
       "      <td>-0.540321</td>\n",
       "      <td>12200</td>\n",
       "    </tr>\n",
       "    <tr>\n",
       "      <th>...</th>\n",
       "      <td>...</td>\n",
       "      <td>...</td>\n",
       "      <td>...</td>\n",
       "      <td>...</td>\n",
       "      <td>...</td>\n",
       "      <td>...</td>\n",
       "      <td>...</td>\n",
       "      <td>...</td>\n",
       "      <td>...</td>\n",
       "    </tr>\n",
       "    <tr>\n",
       "      <th>162</th>\n",
       "      <td>-0.224902</td>\n",
       "      <td>0.200315</td>\n",
       "      <td>-0.569997</td>\n",
       "      <td>0.239979</td>\n",
       "      <td>2950</td>\n",
       "      <td>-0.488315</td>\n",
       "      <td>-0.849606</td>\n",
       "      <td>0.364658</td>\n",
       "      <td>2970</td>\n",
       "    </tr>\n",
       "    <tr>\n",
       "      <th>163</th>\n",
       "      <td>-0.524935</td>\n",
       "      <td>-0.459980</td>\n",
       "      <td>-0.693776</td>\n",
       "      <td>-1.209860</td>\n",
       "      <td>16500</td>\n",
       "      <td>3.606020</td>\n",
       "      <td>0.544723</td>\n",
       "      <td>-0.315728</td>\n",
       "      <td>13500</td>\n",
       "    </tr>\n",
       "    <tr>\n",
       "      <th>164</th>\n",
       "      <td>-0.371199</td>\n",
       "      <td>1.126916</td>\n",
       "      <td>0.008851</td>\n",
       "      <td>1.375892</td>\n",
       "      <td>4490</td>\n",
       "      <td>0.408503</td>\n",
       "      <td>0.286097</td>\n",
       "      <td>-0.659224</td>\n",
       "      <td>1310</td>\n",
       "    </tr>\n",
       "    <tr>\n",
       "      <th>165</th>\n",
       "      <td>0.447072</td>\n",
       "      <td>-0.405259</td>\n",
       "      <td>-0.595481</td>\n",
       "      <td>-0.515920</td>\n",
       "      <td>4480</td>\n",
       "      <td>1.496416</td>\n",
       "      <td>-0.343599</td>\n",
       "      <td>1.137523</td>\n",
       "      <td>1310</td>\n",
       "    </tr>\n",
       "    <tr>\n",
       "      <th>166</th>\n",
       "      <td>1.111607</td>\n",
       "      <td>-0.149897</td>\n",
       "      <td>-0.337002</td>\n",
       "      <td>-0.660491</td>\n",
       "      <td>3280</td>\n",
       "      <td>0.588245</td>\n",
       "      <td>-2.086510</td>\n",
       "      <td>1.619738</td>\n",
       "      <td>1460</td>\n",
       "    </tr>\n",
       "  </tbody>\n",
       "</table>\n",
       "<p>167 rows × 9 columns</p>\n",
       "</div>"
      ],
      "text/plain": [
       "     child_mort   exports    health   imports  income  inflation  life_expec  \\\n",
       "0      1.287660 -1.134867  0.278251 -0.082208    1610   0.156864   -1.614237   \n",
       "1     -0.537333 -0.478220 -0.096725  0.070624    9930  -0.311411    0.645924   \n",
       "2     -0.272015 -0.098824 -0.963176 -0.639838   12900   0.786908    0.668413   \n",
       "3      2.001787  0.773056 -1.443729 -0.164820    5900   1.382894   -1.175698   \n",
       "4     -0.693548  0.160186 -0.286034  0.496076   19100  -0.599944    0.702147   \n",
       "..          ...       ...       ...       ...     ...        ...         ...   \n",
       "162   -0.224902  0.200315 -0.569997  0.239979    2950  -0.488315   -0.849606   \n",
       "163   -0.524935 -0.459980 -0.693776 -1.209860   16500   3.606020    0.544723   \n",
       "164   -0.371199  1.126916  0.008851  1.375892    4490   0.408503    0.286097   \n",
       "165    0.447072 -0.405259 -0.595481 -0.515920    4480   1.496416   -0.343599   \n",
       "166    1.111607 -0.149897 -0.337002 -0.660491    3280   0.588245   -2.086510   \n",
       "\n",
       "     total_fer   gdpp  \n",
       "0     1.897176    553  \n",
       "1    -0.857394   4090  \n",
       "2    -0.038289   4460  \n",
       "3     2.121770   3530  \n",
       "4    -0.540321  12200  \n",
       "..         ...    ...  \n",
       "162   0.364658   2970  \n",
       "163  -0.315728  13500  \n",
       "164  -0.659224   1310  \n",
       "165   1.137523   1310  \n",
       "166   1.619738   1460  \n",
       "\n",
       "[167 rows x 9 columns]"
      ]
     },
     "execution_count": 4,
     "metadata": {},
     "output_type": "execute_result"
    }
   ],
   "source": [
    "filepath = 'C:\\\\Users\\\\Shaurya\\\\Downloads\\\\Project_3\\\\Project_3\\\\Country-data.csv'\n",
    "def z_score_standardization(column):\n",
    "    if(column.dtype == float):\n",
    "        return (column - column.mean()) / column.std()\n",
    "    else:\n",
    "        return (column)\n",
    "data = pd.read_csv(filepath)\n",
    "data = data.drop('country', axis=1)\n",
    "#data1=data1.drop(data1.iloc[0])\n",
    "df = data.apply(z_score_standardization) #applying the\n",
    "df.reset_index(drop=True)\n",
    "global potato\n",
    "df"
   ]
  },
  {
   "cell_type": "code",
   "execution_count": 5,
   "metadata": {},
   "outputs": [
    {
     "name": "stdout",
     "output_type": "stream",
     "text": [
      "[94.79263687360577, 5.2073623567339595, 2.8175825634545935e-07, 2.1423260939270517e-07, 1.2198164058334805e-07, 9.179218181031662e-08, 3.1290071245038165e-08, 1.682891355690709e-08, 1.1776586551004867e-08]\n"
     ]
    },
    {
     "data": {
      "text/plain": [
       "<function matplotlib.pyplot.show(close=None, block=None)>"
      ]
     },
     "execution_count": 5,
     "metadata": {},
     "output_type": "execute_result"
    },
    {
     "data": {
      "image/png": "[encoded data removed]",
      "text/plain": [
       "<Figure size 640x480 with 1 Axes>"
      ]
     },
     "metadata": {},
     "output_type": "display_data"
    }
   ],
   "source": [
    "def meaner(column):\n",
    "    return column-column.mean()\n",
    "df = df.apply(meaner)\n",
    "cov_mat = np.cov(df , rowvar = False)\n",
    "eigen_values , eigen_vectors = np.linalg.eigh(cov_mat)\n",
    "sorted_index = np.argsort(eigen_values)[::-1]\n",
    "sorted_eigenvalue = eigen_values[sorted_index]\n",
    "sorted_eigenvectors = eigen_vectors[:,sorted_index]\n",
    "n_components = 2\n",
    "eigenvector_subset = sorted_eigenvectors[:,0:n_components]\n",
    "df_reduced = np.dot(eigenvector_subset.transpose(),df.transpose()).transpose()\n",
    "df_reduced = pd.DataFrame(df_reduced , columns = ['PC1','PC2'])\n",
    "eigen_values_total = sum(eigen_values)\n",
    "explained_variance = [(i / eigen_values_total)*100 for i in sorted_eigenvalue]\n",
    "print(explained_variance)\n",
    "plt.bar(range(9),explained_variance)\n",
    "plt.show"
   ]
  },
  {
   "cell_type": "code",
   "execution_count": 6,
   "metadata": {},
   "outputs": [],
   "source": [
    "def random_centroid(X,k):\n",
    "    random_idx=[np.random.randint(len(X)) for i in range(k)]\n",
    "    centroids=[]\n",
    "    for i in random_idx:\n",
    "        centroids.append(X.iloc[i])\n",
    "    return centroids"
   ]
  },
  {
   "cell_type": "code",
   "execution_count": 13,
   "metadata": {},
   "outputs": [],
   "source": [
    "def assign_cluster(X, initial_centroids, k, elbow):\n",
    "    clusters = []\n",
    "    elbows = []\n",
    "    for i in range(len(X)):\n",
    "        euclidean_distances = []\n",
    "        for j in range(k):\n",
    "            euclidean_distances.append(np.linalg.norm(np.array(X.iloc[i]) - initial_centroids[j]))\n",
    "        index = np.argmin(euclidean_distances)\n",
    "        clusters.append(index)\n",
    "        if elbow==True :\n",
    "            elbows.append(np.min(euclidean_distances))\n",
    "    if elbow==True :\n",
    "        return np.sum(elbows)\n",
    "    return np.asarray(clusters)"
   ]
  },
  {
   "cell_type": "code",
   "execution_count": 8,
   "metadata": {},
   "outputs": [],
   "source": [
    "def compute_centroid(X,clusters,k):\n",
    "    centroid=[]\n",
    "    for i in range(k):\n",
    "        temp=[]\n",
    "        for j in range(len(X)):\n",
    "            if clusters[j]==i:\n",
    "                temp.append(X.iloc[j])\n",
    "        centroid.append(np.mean(temp,axis=0))\n",
    "    return np.asarray(centroid)"
   ]
  },
  {
   "cell_type": "code",
   "execution_count": 9,
   "metadata": {},
   "outputs": [],
   "source": [
    "def difference(prev,next):\n",
    "    diff=0\n",
    "    for i in range(len(prev)):\n",
    "        diff+=np.linalg.norm(prev[i]-next[i])\n",
    "    return diff"
   ]
  },
  {
   "cell_type": "code",
   "execution_count": 10,
   "metadata": {},
   "outputs": [],
   "source": [
    "def show_clusters(X,clusters,centroids,initial_centroids,mark_centroid=True,show_ini_centroid=True,show_plots=True):\n",
    "    cols={0:'r',1:'g',2:'b',3:'coral',4:'pink',5:'beige'}\n",
    "    fig,ax=plt.subplots(figsize=(7.5,6))\n",
    "    for i in range(len(clusters)):\n",
    "        ax.scatter(X.iloc[i][0],X.iloc[i][1],color=cols[clusters[i]])\n",
    "    for j in range(len(centroids)):\n",
    "        ax.scatter(centroids[j][0],centroids[j][1],marker='*',color=cols[j])\n",
    "        if show_ini_centroid==True:\n",
    "            ax.scatter(initial_centroids[j][0],initial_centroids[j][1],marker='+',s=150,color=cols[j])\n",
    "    if mark_centroid==True:\n",
    "        for i in range(len(centroids)):\n",
    "            ax.add_artist(plt.Circle((centroids[j][0],centroids[j][1]),0.4,linewidth=2,fill=False))\n",
    "            if show_ini_centroid==True:\n",
    "                ax.add_artist(plt.Circle((initial_centroids[j][0],initial_centroids[j][1]), 0.4, linewidth=2,color='y', fill=False))\n",
    "    ax.set_xlabel(\"PCA1\")\n",
    "    ax.set_ylabel(\"PCA2\")\n",
    "    if show_plots==True:\n",
    "        plt.show()"
   ]
  },
  {
   "cell_type": "code",
   "execution_count": 11,
   "metadata": {},
   "outputs": [],
   "source": [
    "def kmeans(X,k,show_plots):\n",
    "    elbow=0\n",
    "    c_prev=random_centroid(X,k)\n",
    "    cluster=assign_cluster(X,c_prev,k,False)\n",
    "    ini_centroid=c_prev\n",
    "    diff=100\n",
    "    while diff>0.001:\n",
    "        cluster=assign_cluster(X,c_prev,k,False)\n",
    "        c_new=compute_centroid(X,cluster,k)\n",
    "        diff=difference(c_prev,c_new)\n",
    "        c_prev=c_new\n",
    "    c_new = compute_centroid (X, cluster,k)\n",
    "    elbowx=assign_cluster(X,c_prev,k,True)\n",
    "    elbow += elbowx\n",
    "    if show_plots:\n",
    "        print(\"\\nInitial cluster Centers: \\n\")\n",
    "        print(ini_centroid)\n",
    "        print(\"\\nFinal Cluster Centers: \\n\")\n",
    "        print(c_prev)\n",
    "        #Plotting the final plot\n",
    "        print(\"\\n\\nFinal Plot: \\n\")\n",
    "        show_clusters (X, cluster,c_prev,ini_centroid,mark_centroid=True, show_ini_centroid=True)\n",
    "        return cluster,c_prev\n",
    "    return elbow"
   ]
  },
  {
   "cell_type": "code",
   "execution_count": 15,
   "metadata": {},
   "outputs": [
    {
     "name": "stdout",
     "output_type": "stream",
     "text": [
      "[3285101.8105591405, 1754389.3884185443, 1361108.474959996, 1088987.7694868373, 914324.9217535232, 742298.5893312424, 667761.6079270148, 647060.3568593636, 634227.6293522792]\n"
     ]
    }
   ],
   "source": [
    "elbow=[]\n",
    "for i in range(1,10):\n",
    "    if i != 0:\n",
    "        elbow.append(kmeans(df_reduced,i,False))\n",
    "print(elbow)"
   ]
  },
  {
   "cell_type": "code",
   "execution_count": null,
   "metadata": {},
   "outputs": [
    {
     "name": "stdout",
     "output_type": "stream",
     "text": [
      "[0 1 2 3 7 8 6 5 4]\n",
      "[3.24575192e+08 5.51006595e+07 1.28859848e+07 4.89338086e+06\n",
      " 2.13855802e+06 1.31181045e+06 1.31181045e+06 6.06754548e+05\n",
      " 6.34426665e+03]\n"
     ]
    },
    {
     "data": {
      "text/plain": [
       "<function matplotlib.pyplot.show(close=None, block=None)>"
      ]
     },
     "execution_count": 183,
     "metadata": {},
     "output_type": "execute_result"
    },
    {
     "data": {
      "image/png": "[encoded data removed]",
      "text/plain": [
       "<Figure size 640x480 with 1 Axes>"
      ]
     },
     "metadata": {},
     "output_type": "display_data"
    }
   ],
   "source": [
    "elbow_index=np.argsort(elbow)[::-1]\n",
    "print(elbow_index)\n",
    "elbownp=np.array(elbow)\n",
    "elbow_sorted=elbownp[elbow_index]\n",
    "print(elbow_sorted)\n",
    "plt.plot(range(9),elbow_sorted)\n",
    "plt.show"
   ]
  },
  {
   "cell_type": "code",
   "execution_count": null,
   "metadata": {},
   "outputs": [
    {
     "name": "stdout",
     "output_type": "stream",
     "text": [
      "\n",
      "Initial cluster Centers: \n",
      "\n",
      "[PC1   -14652.414826\n",
      "PC2      867.789378\n",
      "Name: 3, dtype: float64, PC1   -19185.280212\n",
      "PC2     2069.925314\n",
      "Name: 136, dtype: float64]\n",
      "\n",
      "Final Cluster Centers: \n",
      "\n",
      "[[ 45191.33869465   1491.99905887]\n",
      " [-10712.02102392   -353.65903618]]\n",
      "\n",
      "\n",
      "Final Plot: \n",
      "\n"
     ]
    },
    {
     "name": "stderr",
     "output_type": "stream",
     "text": [
      "C:\\Users\\Shaurya\\AppData\\Local\\Temp\\ipykernel_23840\\1452274931.py:5: FutureWarning: Series.__getitem__ treating keys as positions is deprecated. In a future version, integer keys will always be treated as labels (consistent with DataFrame behavior). To access a value by position, use `ser.iloc[pos]`\n",
      "  ax.scatter(X.iloc[i][0],X.iloc[i][1],color=cols[clusters[i]])\n",
      "C:\\Users\\Shaurya\\AppData\\Local\\Temp\\ipykernel_23840\\1452274931.py:9: FutureWarning: Series.__getitem__ treating keys as positions is deprecated. In a future version, integer keys will always be treated as labels (consistent with DataFrame behavior). To access a value by position, use `ser.iloc[pos]`\n",
      "  ax.scatter(initial_centroids[j][0],initial_centroids[j][1],marker='+',s=150,color=cols[j])\n",
      "C:\\Users\\Shaurya\\AppData\\Local\\Temp\\ipykernel_23840\\1452274931.py:14: FutureWarning: Series.__getitem__ treating keys as positions is deprecated. In a future version, integer keys will always be treated as labels (consistent with DataFrame behavior). To access a value by position, use `ser.iloc[pos]`\n",
      "  ax.add_artist(plt.Circle((initial_centroids[j][0],initial_centroids[j][1]), 0.4, linewidth=2,color='y', fill=False))\n"
     ]
    },
    {
     "data": {
      "image/png": "[encoded data removed]",
      "text/plain": [
       "<Figure size 750x600 with 1 Axes>"
      ]
     },
     "metadata": {},
     "output_type": "display_data"
    },
    {
     "name": "stdout",
     "output_type": "stream",
     "text": [
      "[1 1 1 1 1 1 1 0 0 1 1 0 1 1 1 0 1 1 1 1 1 1 1 0 1 1 1 1 1 0 1 1 1 1 1 1 1\n",
      " 1 1 1 1 1 0 1 0 1 1 1 1 1 1 1 1 0 0 1 1 1 0 1 0 1 1 1 1 1 1 1 0 1 1 1 1 0\n",
      " 0 0 1 0 1 1 1 1 0 1 1 1 1 1 1 1 1 0 1 1 1 1 1 1 1 1 1 1 1 1 1 1 1 1 1 1 0\n",
      " 0 1 1 0 0 1 1 1 1 1 1 1 0 1 1 1 1 0 1 1 1 1 0 1 1 1 1 1 0 1 1 1 1 0 0 1 1\n",
      " 1 1 1 1 1 1 1 1 1 0 0 0 1 1 1 1 1 1 1] [[ 45191.33869465   1491.99905887]\n",
      " [-10712.02102392   -353.65903618]]\n",
      "For n_clusters = 2 The average silhouette_score is : 0.725640624018418\n"
     ]
    }
   ],
   "source": [
    "cluster,cigga=kmeans(df_reduced,2,True)\n",
    "print(cluster,cigga)\n",
    "silhouette_avg = silhouette_score(df_reduced, cluster)\n",
    "print(\"For n_clusters =\",2,\"The average silhouette_score is :\",silhouette_avg,)"
   ]
  }
 ],
 "metadata": {
  "kernelspec": {
   "display_name": "base",
   "language": "python",
   "name": "python3"
  },
  "language_info": {
   "codemirror_mode": {
    "name": "ipython",
    "version": 3
   },
   "file_extension": ".py",
   "mimetype": "text/x-python",
   "name": "python",
   "nbconvert_exporter": "python",
   "pygments_lexer": "ipython3",
   "version": "3.9.13"
  }
 },
 "nbformat": 4,
 "nbformat_minor": 2
}
